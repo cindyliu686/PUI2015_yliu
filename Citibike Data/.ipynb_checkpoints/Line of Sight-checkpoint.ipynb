{
 "cells": [
  {
   "cell_type": "code",
   "execution_count": null,
   "metadata": {
    "collapsed": true
   },
   "outputs": [],
   "source": [
    "import numpy as np\n",
    "from numpy import random\n",
    "import pandas as pd\n",
    "import scipy\n",
    "from scipy import stats\n",
    "import pylab as pl\n",
    "%pylab inline\n",
    "import statsmodels.formula.api as smf\n",
    "import math"
   ]
  },
  {
   "cell_type": "code",
   "execution_count": null,
   "metadata": {
    "collapsed": true
   },
   "outputs": [],
   "source": [
    "# point o is the observation point; point 1 is the northernmost in the image; \n",
    "# point 2 is the southernmost in the image\n",
    "dist_01 = math.sqrt((lon1-lon0)**2 + (lat1-lat0)**2)\n",
    "dist_02 = math.sqrt((lon2-lon0)**2 + (lat2-lat0)**2)\n",
    "dist_12 = math.sqrt((lon2-lon1)**2 + (lat2-lat1)**2)\n",
    "# A angle\n",
    "cosA = ((dis_01)**2 + (dis_02)**2 - (dis_12)**2)/ 2*dist_01*dist_02  # The angle\n",
    "A = math.acos(cosA)"
   ]
  },
  {
   "cell_type": "markdown",
   "metadata": {},
   "source": [
    "# formula: cosA = (b^2 + c^2 - a^2)/ 2bc"
   ]
  },
  {
   "cell_type": "code",
   "execution_count": null,
   "metadata": {
    "collapsed": true
   },
   "outputs": [],
   "source": [
    "# B is the angle between the line going from op to the southermost point \n",
    "# and the line going from op along with the latitude axis\n",
    "tanB = abs(lon0 - lon2)/abs(lat0 - lat2)\n",
    "# C is the angle between the lines going through the southermost point and pollution point\n",
    "# pixel_x is the x location of a pollution point in the image\n",
    "pixel_x = # unknown; we can assign a random number\n",
    "pixel_x_total = # Unknown; we can plug in a random value now but I will ask Milad about this.\n",
    "C = ((pixel_x_total - pixel_x)/pixel_x_total)*A\n",
    "# k\n",
    "k = tan(C - B)\n",
    "# Creat the line function and get the longitude and latitude of the line\n",
    "b = k*lat0 - lon0\n",
    "X = np.linspace(start,stop,100)  # start,stop are the latitudes we set\n",
    "Y = k*X + b\n",
    "line = pd.DataFrame({'Y':Y,'X':X},index = '',column=)\n",
    "line.to_csv('line.csv')"
   ]
  },
  {
   "cell_type": "code",
   "execution_count": null,
   "metadata": {
    "collapsed": true
   },
   "outputs": [],
   "source": [
    "# Plot the line in GIS\n"
   ]
  }
 ],
 "metadata": {
  "kernelspec": {
   "display_name": "Python 2",
   "language": "python",
   "name": "python2"
  },
  "language_info": {
   "codemirror_mode": {
    "name": "ipython",
    "version": 2
   },
   "file_extension": ".py",
   "mimetype": "text/x-python",
   "name": "python",
   "nbconvert_exporter": "python",
   "pygments_lexer": "ipython2",
   "version": "2.7.10"
  }
 },
 "nbformat": 4,
 "nbformat_minor": 0
}
