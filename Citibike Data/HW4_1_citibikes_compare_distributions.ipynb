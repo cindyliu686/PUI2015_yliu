{
 "cells": [
  {
   "cell_type": "markdown",
   "metadata": {
    "collapsed": true
   },
   "source": [
    "#Assignment 1:\n",
    "    test if the distribution of ages is the same for \n",
    "    \n",
    "    1) male and femal riders\n",
    "    \n",
    "    2) day and night riders\n",
    "    \n",
    "    use 3 tests: KS, Pearson's, Spearman's"
   ]
  },
  {
   "cell_type": "markdown",
   "metadata": {},
   "source": [
    "my usual imports and setups"
   ]
  },
  {
   "cell_type": "code",
   "execution_count": 4,
   "metadata": {
    "collapsed": false,
    "scrolled": true
   },
   "outputs": [
    {
     "name": "stdout",
     "output_type": "stream",
     "text": [
      "Populating the interactive namespace from numpy and matplotlib\n"
     ]
    }
   ],
   "source": [
    "import pylab as pl\n",
    "import pandas as pd\n",
    "import numpy as np\n",
    "%pylab inline\n"
   ]
  },
  {
   "cell_type": "markdown",
   "metadata": {},
   "source": [
    "I am reading in data from January 2015. It would be a good idea to use data from warmer months, since there are more riders in the warm weather and the more data the smaller the STATISTICAL NOISE. If you are ambitios you can use data from multiple months, thus addressing systematic errors as well"
   ]
  },
  {
   "cell_type": "markdown",
   "metadata": {},
   "source": [
    "# Load the citibike data of August as it would have more riders"
   ]
  },
  {
   "cell_type": "code",
   "execution_count": 5,
   "metadata": {
    "collapsed": false,
    "scrolled": false
   },
   "outputs": [
    {
     "name": "stdout",
     "output_type": "stream",
     "text": [
      "Index([u'tripduration', u'starttime', u'stoptime', u'start station id',\n",
      "       u'start station name', u'start station latitude',\n",
      "       u'start station longitude', u'end station id', u'end station name',\n",
      "       u'end station latitude', u'end station longitude', u'bikeid',\n",
      "       u'usertype', u'birth year', u'gender'],\n",
      "      dtype='object')\n"
     ]
    }
   ],
   "source": [
    "df=pd.read_csv('201508-citibike-tripdata.csv')\n",
    "print df.columns"
   ]
  },
  {
   "cell_type": "markdown",
   "metadata": {},
   "source": [
    "#BY GENDER\n",
    "splitting data by gender and extracting the age happens in the cell below"
   ]
  },
  {
   "cell_type": "code",
   "execution_count": 13,
   "metadata": {
    "collapsed": false
   },
   "outputs": [
    {
     "data": {
      "text/html": [
       "<div>\n",
       "<table border=\"1\" class=\"dataframe\">\n",
       "  <thead>\n",
       "    <tr style=\"text-align: right;\">\n",
       "      <th></th>\n",
       "      <th>tripduration</th>\n",
       "      <th>starttime</th>\n",
       "      <th>stoptime</th>\n",
       "      <th>start station id</th>\n",
       "      <th>start station name</th>\n",
       "      <th>start station latitude</th>\n",
       "      <th>start station longitude</th>\n",
       "      <th>end station id</th>\n",
       "      <th>end station name</th>\n",
       "      <th>end station latitude</th>\n",
       "      <th>end station longitude</th>\n",
       "      <th>bikeid</th>\n",
       "      <th>usertype</th>\n",
       "      <th>birth year</th>\n",
       "      <th>gender</th>\n",
       "      <th>datetime</th>\n",
       "      <th>ageD</th>\n",
       "      <th>ageN</th>\n",
       "      <th>ageM</th>\n",
       "      <th>ageF</th>\n",
       "    </tr>\n",
       "  </thead>\n",
       "  <tbody>\n",
       "    <tr>\n",
       "      <th>0</th>\n",
       "      <td>1202</td>\n",
       "      <td>8/1/2015 00:00:04</td>\n",
       "      <td>8/1/2015 00:20:07</td>\n",
       "      <td>168</td>\n",
       "      <td>W 18 St &amp; 6 Ave</td>\n",
       "      <td>40.739713</td>\n",
       "      <td>-73.994564</td>\n",
       "      <td>385</td>\n",
       "      <td>E 55 St &amp; 2 Ave</td>\n",
       "      <td>40.757973</td>\n",
       "      <td>-73.966033</td>\n",
       "      <td>23253</td>\n",
       "      <td>Subscriber</td>\n",
       "      <td>1987</td>\n",
       "      <td>1</td>\n",
       "      <td>2015-08-01 00:00:04</td>\n",
       "      <td>NaN</td>\n",
       "      <td>28</td>\n",
       "      <td>28</td>\n",
       "      <td>NaN</td>\n",
       "    </tr>\n",
       "    <tr>\n",
       "      <th>1</th>\n",
       "      <td>301</td>\n",
       "      <td>8/1/2015 00:00:05</td>\n",
       "      <td>8/1/2015 00:05:06</td>\n",
       "      <td>450</td>\n",
       "      <td>W 49 St &amp; 8 Ave</td>\n",
       "      <td>40.762272</td>\n",
       "      <td>-73.987882</td>\n",
       "      <td>479</td>\n",
       "      <td>9 Ave &amp; W 45 St</td>\n",
       "      <td>40.760193</td>\n",
       "      <td>-73.991255</td>\n",
       "      <td>22675</td>\n",
       "      <td>Subscriber</td>\n",
       "      <td>1951</td>\n",
       "      <td>2</td>\n",
       "      <td>2015-08-01 00:00:05</td>\n",
       "      <td>NaN</td>\n",
       "      <td>64</td>\n",
       "      <td>NaN</td>\n",
       "      <td>64</td>\n",
       "    </tr>\n",
       "    <tr>\n",
       "      <th>2</th>\n",
       "      <td>431</td>\n",
       "      <td>8/1/2015 00:00:06</td>\n",
       "      <td>8/1/2015 00:07:18</td>\n",
       "      <td>312</td>\n",
       "      <td>Allen St &amp; E Houston St</td>\n",
       "      <td>40.722055</td>\n",
       "      <td>-73.989111</td>\n",
       "      <td>296</td>\n",
       "      <td>Division St &amp; Bowery</td>\n",
       "      <td>40.714131</td>\n",
       "      <td>-73.997047</td>\n",
       "      <td>19831</td>\n",
       "      <td>Subscriber</td>\n",
       "      <td>1985</td>\n",
       "      <td>1</td>\n",
       "      <td>2015-08-01 00:00:06</td>\n",
       "      <td>NaN</td>\n",
       "      <td>30</td>\n",
       "      <td>30</td>\n",
       "      <td>NaN</td>\n",
       "    </tr>\n",
       "    <tr>\n",
       "      <th>3</th>\n",
       "      <td>273</td>\n",
       "      <td>8/1/2015 00:00:09</td>\n",
       "      <td>8/1/2015 00:04:43</td>\n",
       "      <td>382</td>\n",
       "      <td>University Pl &amp; E 14 St</td>\n",
       "      <td>40.734927</td>\n",
       "      <td>-73.992005</td>\n",
       "      <td>229</td>\n",
       "      <td>Great Jones St</td>\n",
       "      <td>40.727434</td>\n",
       "      <td>-73.993790</td>\n",
       "      <td>22765</td>\n",
       "      <td>Subscriber</td>\n",
       "      <td>1975</td>\n",
       "      <td>1</td>\n",
       "      <td>2015-08-01 00:00:09</td>\n",
       "      <td>NaN</td>\n",
       "      <td>40</td>\n",
       "      <td>40</td>\n",
       "      <td>NaN</td>\n",
       "    </tr>\n",
       "    <tr>\n",
       "      <th>4</th>\n",
       "      <td>1256</td>\n",
       "      <td>8/1/2015 00:00:17</td>\n",
       "      <td>8/1/2015 00:21:13</td>\n",
       "      <td>352</td>\n",
       "      <td>W 56 St &amp; 6 Ave</td>\n",
       "      <td>40.763406</td>\n",
       "      <td>-73.977225</td>\n",
       "      <td>432</td>\n",
       "      <td>E 7 St &amp; Avenue A</td>\n",
       "      <td>40.726218</td>\n",
       "      <td>-73.983799</td>\n",
       "      <td>22127</td>\n",
       "      <td>Subscriber</td>\n",
       "      <td>1978</td>\n",
       "      <td>1</td>\n",
       "      <td>2015-08-01 00:00:17</td>\n",
       "      <td>NaN</td>\n",
       "      <td>37</td>\n",
       "      <td>37</td>\n",
       "      <td>NaN</td>\n",
       "    </tr>\n",
       "  </tbody>\n",
       "</table>\n",
       "</div>"
      ],
      "text/plain": [
       "   tripduration          starttime           stoptime  start station id  \\\n",
       "0          1202  8/1/2015 00:00:04  8/1/2015 00:20:07               168   \n",
       "1           301  8/1/2015 00:00:05  8/1/2015 00:05:06               450   \n",
       "2           431  8/1/2015 00:00:06  8/1/2015 00:07:18               312   \n",
       "3           273  8/1/2015 00:00:09  8/1/2015 00:04:43               382   \n",
       "4          1256  8/1/2015 00:00:17  8/1/2015 00:21:13               352   \n",
       "\n",
       "        start station name  start station latitude  start station longitude  \\\n",
       "0          W 18 St & 6 Ave               40.739713               -73.994564   \n",
       "1          W 49 St & 8 Ave               40.762272               -73.987882   \n",
       "2  Allen St & E Houston St               40.722055               -73.989111   \n",
       "3  University Pl & E 14 St               40.734927               -73.992005   \n",
       "4          W 56 St & 6 Ave               40.763406               -73.977225   \n",
       "\n",
       "   end station id      end station name  end station latitude  \\\n",
       "0             385       E 55 St & 2 Ave             40.757973   \n",
       "1             479       9 Ave & W 45 St             40.760193   \n",
       "2             296  Division St & Bowery             40.714131   \n",
       "3             229        Great Jones St             40.727434   \n",
       "4             432     E 7 St & Avenue A             40.726218   \n",
       "\n",
       "   end station longitude  bikeid    usertype  birth year  gender  \\\n",
       "0             -73.966033   23253  Subscriber        1987       1   \n",
       "1             -73.991255   22675  Subscriber        1951       2   \n",
       "2             -73.997047   19831  Subscriber        1985       1   \n",
       "3             -73.993790   22765  Subscriber        1975       1   \n",
       "4             -73.983799   22127  Subscriber        1978       1   \n",
       "\n",
       "             datetime  ageD  ageN  ageM  ageF  \n",
       "0 2015-08-01 00:00:04   NaN    28    28   NaN  \n",
       "1 2015-08-01 00:00:05   NaN    64   NaN    64  \n",
       "2 2015-08-01 00:00:06   NaN    30    30   NaN  \n",
       "3 2015-08-01 00:00:09   NaN    40    40   NaN  \n",
       "4 2015-08-01 00:00:17   NaN    37    37   NaN  "
      ]
     },
     "execution_count": 13,
     "metadata": {},
     "output_type": "execute_result"
    }
   ],
   "source": [
    "#df is the dataframe where the content of the csv file is stored\n",
    "df['ageM'] = 2015-df['birth year'][(df['usertype'] == 'Subscriber') & (df['gender'] == 1)]\n",
    "df['ageF'] = 2015-df['birth year'][(df['usertype'] == 'Subscriber') & (df['gender'] == 2)]\n",
    "df.head()"
   ]
  },
  {
   "cell_type": "markdown",
   "metadata": {},
   "source": [
    "lets splot age in 10 year bins. the dataset is very large, so i could be split in smaller bins, but I will chose 10 years in the interest of time. if i was to do this \"for real\" the bin size choice should be a balance between properly sample the age space, have enough counts in each bin that the statistical noise is not significant (remember that is > sqrt(N)!) and the computational requirement to computatinal facilities ratio. "
   ]
  },
  {
   "cell_type": "markdown",
   "metadata": {},
   "source": [
    "the next several steps are needed if you want to code up the KS test from scratch. that is for extra credit, so if you do not want to do it you may not need to plot split the distribution in bins and create the cumulative HOWEVER it is a great idea to do it anyways to explore your data viaually! remember Ascombe's quartet!!"
   ]
  },
  {
   "cell_type": "code",
   "execution_count": 14,
   "metadata": {
    "collapsed": false
   },
   "outputs": [
    {
     "data": {
      "text/plain": [
       "<matplotlib.axes._subplots.AxesSubplot at 0x107b0b610>"
      ]
     },
     "execution_count": 14,
     "metadata": {},
     "output_type": "execute_result"
    },
    {
     "data": {
      "image/png": "[encoded data removed]",
      "text/plain": [
       "<matplotlib.figure.Figure at 0x108910090>"
      ]
     },
     "metadata": {},
     "output_type": "display_data"
    },
    {
     "data": {
      "image/png": "[encoded data removed]",
      "text/plain": [
       "<matplotlib.figure.Figure at 0x10763fd90>"
      ]
     },
     "metadata": {},
     "output_type": "display_data"
    }
   ],
   "source": [
    "bins = np.arange(10, 99, 10)\n",
    "df.ageM.groupby(pd.cut(df.ageM, bins)).agg([count_nonzero]).plot(kind='bar')\n",
    "df.ageF.groupby(pd.cut(df.ageF, bins)).agg([count_nonzero]).plot(kind='bar')"
   ]
  },
  {
   "cell_type": "markdown",
   "metadata": {},
   "source": [
    "this is how the cumulative distributions look like.  Notice that i am normalizing them! if i want to reat an observed distribution like a probablility distribution i have to normalize it"
   ]
  },
  {
   "cell_type": "code",
   "execution_count": 7,
   "metadata": {
    "collapsed": false,
    "scrolled": false
   },
   "outputs": [
    {
     "name": "stdout",
     "output_type": "stream",
     "text": [
      "          count_nonzero\n",
      "ageM                   \n",
      "(10, 20]       0.000755\n",
      "(20, 30]       0.079080\n",
      "(30, 40]       0.065388\n",
      "(40, 50]       0.025400\n",
      "(50, 60]       0.012053\n",
      "(60, 70]       0.000974\n",
      "(70, 80]       0.000347\n",
      "(80, 90]       0.000000\n"
     ]
    },
    {
     "data": {
      "text/plain": [
       "<matplotlib.legend.Legend at 0x107b28f10>"
      ]
     },
     "execution_count": 7,
     "metadata": {},
     "output_type": "execute_result"
    },
    {
     "data": {
      "image/png": "[encoded data removed]",
      "text/plain": [
       "<matplotlib.figure.Figure at 0x10775b090>"
      ]
     },
     "metadata": {},
     "output_type": "display_data"
    }
   ],
   "source": [
    "#print df.ageS, df.ageS.cumsum()\n",
    "\n",
    "csM=df.ageM.groupby(pd.cut(df.ageM, bins)).agg([count_nonzero]).cumsum()\n",
    "\n",
    "csF=df.ageF.groupby(pd.cut(df.ageF, bins)).agg([count_nonzero]).cumsum()\n",
    "\n",
    "print np.abs(csM / csM.max()-csF / csF.max())\n",
    "\n",
    "pl.plot(bins[:-1] + 5, csM / csM.max(), label = \"M\")\n",
    "pl.plot(bins[:-1] + 5, csF / csF.max(), label = \"F\")\n",
    "pl.legend()"
   ]
  },
  {
   "cell_type": "markdown",
   "metadata": {},
   "source": [
    "they look pretty darn similar! that sets my expectation for the tests to come. if i wanted to code the KS test by hand i woud have everything i need: the normalized cumulative distributions can be subtracted from each other and the max distance can be seeked. \n",
    "\n",
    "Notice that there amay be Nan values you are gonna have to deal with! you can do that for example with a Boolean statementsuch as  df.ageF[~np.isnan(df.ageF)] or you can use numpy functions that deal with Nan values: nansum, nanmean, nanstd..."
   ]
  },
  {
   "cell_type": "markdown",
   "metadata": {},
   "source": [
    "lets run the scipy KS test"
   ]
  },
  {
   "cell_type": "code",
   "execution_count": 8,
   "metadata": {
    "collapsed": false,
    "scrolled": false
   },
   "outputs": [],
   "source": [
    "s"
   ]
  },
  {
   "cell_type": "markdown",
   "metadata": {
    "collapsed": true
   },
   "source": [
    "#KS tests to compare 2 samples\n",
    "\n",
    "http://docs.scipy.org/doc/scipy-0.15.1/reference/generated/scipy.stats.ks_2samp.html\n"
   ]
  },
  {
   "cell_type": "code",
   "execution_count": 23,
   "metadata": {
    "collapsed": false
   },
   "outputs": [
    {
     "name": "stdout",
     "output_type": "stream",
     "text": [
      "(0.091239723418848284, 0.0)\n"
     ]
    }
   ],
   "source": [
    "ks=scipy.stats.ks_2samp(df.ageM, df.ageF)\n",
    "print ks"
   ]
  },
  {
   "cell_type": "markdown",
   "metadata": {},
   "source": [
    "remember: the Null hypothesis is rejected if \n",
    "\n",
    "$D_KS(n1,n2) > c(\\alpha) \\sqrt{\\frac{(n1+n2)}{n1n2}}$\n",
    "\n",
    "where $c(\\alpha$) is the inverse of the KS distribution, and you do not have to know how to get that cause there are tables that list critical values!! \n",
    "\n",
    "http://www.real-statistics.com/tests-normality-and-symmetry/statistical-tests-normality-symmetry/kolmogorov-smirnov-test/kolmogorov-distribution/\n",
    "\n",
    "but scipy is already giving you the p-value, s you do not have to worry about it i am still giving you the table FWI and if you want to do the coding of the KS test by hand\n"
   ]
  },
  {
   "cell_type": "markdown",
   "metadata": {},
   "source": [
    "# Code up the KS Test"
   ]
  },
  {
   "cell_type": "code",
   "execution_count": 21,
   "metadata": {
    "collapsed": false
   },
   "outputs": [
    {
     "name": "stdout",
     "output_type": "stream",
     "text": [
      "0.0790799384926\n"
     ]
    }
   ],
   "source": [
    "cum_dif = np.abs(csM / csM.max()-csF / csF.max())\n",
    "d_value = max(cum_dif.count_nonzero)\n",
    "print d_value"
   ]
  },
  {
   "cell_type": "code",
   "execution_count": 22,
   "metadata": {
    "collapsed": false
   },
   "outputs": [
    {
     "name": "stdout",
     "output_type": "stream",
     "text": [
      "0.00322550809508\n"
     ]
    }
   ],
   "source": [
    "n1 = df.ageM.count()\n",
    "n2 = df.ageF.count()\n",
    "\n",
    "alpha = 0.05\n",
    "c_alpha = 1.36  # according to the critical value table\n",
    "critical_value = c_alpha*sqrt((n1+n2)/float(n1*n2))\n",
    "print critical_value"
   ]
  },
  {
   "cell_type": "markdown",
   "metadata": {},
   "source": [
    "# Comment \n",
    "I reject the null hypothesis that the two samples come from the same distribution because the d_value is larger than the critical value. Also, the KS test shows that the p-value is smaller than 0.05 which rejects the null hypothesis."
   ]
  },
  {
   "cell_type": "markdown",
   "metadata": {},
   "source": [
    "# Pearson's  test for correlation\n",
    "\n",
    "http://docs.scipy.org/doc/scipy/reference/generated/scipy.stats.pearsonr.html#scipy.stats.pearsonr\n",
    "\n"
   ]
  },
  {
   "cell_type": "code",
   "execution_count": 27,
   "metadata": {
    "collapsed": false
   },
   "outputs": [
    {
     "name": "stdout",
     "output_type": "stream",
     "text": [
      "(nan, 1.0)\n"
     ]
    }
   ],
   "source": [
    "#please perform the Pearson's test and tell me what you find\n",
    "pr = scipy.stats.pearsonr(df.ageM, df.ageF)\n",
    "print pr"
   ]
  },
  {
   "cell_type": "markdown",
   "metadata": {},
   "source": []
  },
  {
   "cell_type": "markdown",
   "metadata": {},
   "source": [
    "#Spearman's  test for correlation\n",
    "\n",
    "http://docs.scipy.org/doc/scipy/reference/generated/scipy.stats.spearmanr.html#scipy.stats.spearmanr"
   ]
  },
  {
   "cell_type": "code",
   "execution_count": 28,
   "metadata": {
    "collapsed": false
   },
   "outputs": [
    {
     "name": "stdout",
     "output_type": "stream",
     "text": [
      "(-0.368460387676455, 0.0)\n"
     ]
    }
   ],
   "source": [
    "#please perform the Spearman's test and tell me what you find\n",
    "sm = scipy.stats.spearmanr(df.ageM, df.ageF)\n",
    "print sm"
   ]
  },
  {
   "cell_type": "markdown",
   "metadata": {},
   "source": [
    "# Comment:\n",
    "For Spearman's test, -0.36 is the correlation coefficient of the two samples. Also, the p-value is smaller than 0.05 which rejects the null hypothesis of non-correlation. It means that the two samples (age of male riders and age of female riders) are correlated."
   ]
  },
  {
   "cell_type": "markdown",
   "metadata": {},
   "source": [
    "# THE DISTRIBUTION OF RIDERS DURING THE DAY VS DURING THE NIGHT!\n",
    "\n",
    "hint: remember how I converted the starttime last time in my own citibikes notebook into units that are easy to read. \n",
    "df['mystarttime'] = ...\n",
    "then you can use something like\n",
    "df['mystarttime'].dt.hour"
   ]
  },
  {
   "cell_type": "code",
   "execution_count": 7,
   "metadata": {
    "collapsed": true
   },
   "outputs": [],
   "source": [
    "df['datetime'] = pd.to_datetime(df['starttime'])\n",
    "# df['mystarttime'] = ... "
   ]
  },
  {
   "cell_type": "code",
   "execution_count": 30,
   "metadata": {
    "collapsed": false
   },
   "outputs": [
    {
     "data": {
      "text/html": [
       "<div>\n",
       "<table border=\"1\" class=\"dataframe\">\n",
       "  <thead>\n",
       "    <tr style=\"text-align: right;\">\n",
       "      <th></th>\n",
       "      <th>tripduration</th>\n",
       "      <th>starttime</th>\n",
       "      <th>stoptime</th>\n",
       "      <th>start station id</th>\n",
       "      <th>start station name</th>\n",
       "      <th>start station latitude</th>\n",
       "      <th>start station longitude</th>\n",
       "      <th>end station id</th>\n",
       "      <th>end station name</th>\n",
       "      <th>end station latitude</th>\n",
       "      <th>end station longitude</th>\n",
       "      <th>bikeid</th>\n",
       "      <th>usertype</th>\n",
       "      <th>birth year</th>\n",
       "      <th>gender</th>\n",
       "      <th>ageM</th>\n",
       "      <th>ageF</th>\n",
       "      <th>datetime</th>\n",
       "    </tr>\n",
       "  </thead>\n",
       "  <tbody>\n",
       "    <tr>\n",
       "      <th>0</th>\n",
       "      <td>1202</td>\n",
       "      <td>8/1/2015 00:00:04</td>\n",
       "      <td>8/1/2015 00:20:07</td>\n",
       "      <td>168</td>\n",
       "      <td>W 18 St &amp; 6 Ave</td>\n",
       "      <td>40.739713</td>\n",
       "      <td>-73.994564</td>\n",
       "      <td>385</td>\n",
       "      <td>E 55 St &amp; 2 Ave</td>\n",
       "      <td>40.757973</td>\n",
       "      <td>-73.966033</td>\n",
       "      <td>23253</td>\n",
       "      <td>Subscriber</td>\n",
       "      <td>1987</td>\n",
       "      <td>1</td>\n",
       "      <td>28</td>\n",
       "      <td>NaN</td>\n",
       "      <td>2015-08-01 00:00:04</td>\n",
       "    </tr>\n",
       "    <tr>\n",
       "      <th>1</th>\n",
       "      <td>301</td>\n",
       "      <td>8/1/2015 00:00:05</td>\n",
       "      <td>8/1/2015 00:05:06</td>\n",
       "      <td>450</td>\n",
       "      <td>W 49 St &amp; 8 Ave</td>\n",
       "      <td>40.762272</td>\n",
       "      <td>-73.987882</td>\n",
       "      <td>479</td>\n",
       "      <td>9 Ave &amp; W 45 St</td>\n",
       "      <td>40.760193</td>\n",
       "      <td>-73.991255</td>\n",
       "      <td>22675</td>\n",
       "      <td>Subscriber</td>\n",
       "      <td>1951</td>\n",
       "      <td>2</td>\n",
       "      <td>NaN</td>\n",
       "      <td>64</td>\n",
       "      <td>2015-08-01 00:00:05</td>\n",
       "    </tr>\n",
       "    <tr>\n",
       "      <th>2</th>\n",
       "      <td>431</td>\n",
       "      <td>8/1/2015 00:00:06</td>\n",
       "      <td>8/1/2015 00:07:18</td>\n",
       "      <td>312</td>\n",
       "      <td>Allen St &amp; E Houston St</td>\n",
       "      <td>40.722055</td>\n",
       "      <td>-73.989111</td>\n",
       "      <td>296</td>\n",
       "      <td>Division St &amp; Bowery</td>\n",
       "      <td>40.714131</td>\n",
       "      <td>-73.997047</td>\n",
       "      <td>19831</td>\n",
       "      <td>Subscriber</td>\n",
       "      <td>1985</td>\n",
       "      <td>1</td>\n",
       "      <td>30</td>\n",
       "      <td>NaN</td>\n",
       "      <td>2015-08-01 00:00:06</td>\n",
       "    </tr>\n",
       "    <tr>\n",
       "      <th>3</th>\n",
       "      <td>273</td>\n",
       "      <td>8/1/2015 00:00:09</td>\n",
       "      <td>8/1/2015 00:04:43</td>\n",
       "      <td>382</td>\n",
       "      <td>University Pl &amp; E 14 St</td>\n",
       "      <td>40.734927</td>\n",
       "      <td>-73.992005</td>\n",
       "      <td>229</td>\n",
       "      <td>Great Jones St</td>\n",
       "      <td>40.727434</td>\n",
       "      <td>-73.993790</td>\n",
       "      <td>22765</td>\n",
       "      <td>Subscriber</td>\n",
       "      <td>1975</td>\n",
       "      <td>1</td>\n",
       "      <td>40</td>\n",
       "      <td>NaN</td>\n",
       "      <td>2015-08-01 00:00:09</td>\n",
       "    </tr>\n",
       "    <tr>\n",
       "      <th>4</th>\n",
       "      <td>1256</td>\n",
       "      <td>8/1/2015 00:00:17</td>\n",
       "      <td>8/1/2015 00:21:13</td>\n",
       "      <td>352</td>\n",
       "      <td>W 56 St &amp; 6 Ave</td>\n",
       "      <td>40.763406</td>\n",
       "      <td>-73.977225</td>\n",
       "      <td>432</td>\n",
       "      <td>E 7 St &amp; Avenue A</td>\n",
       "      <td>40.726218</td>\n",
       "      <td>-73.983799</td>\n",
       "      <td>22127</td>\n",
       "      <td>Subscriber</td>\n",
       "      <td>1978</td>\n",
       "      <td>1</td>\n",
       "      <td>37</td>\n",
       "      <td>NaN</td>\n",
       "      <td>2015-08-01 00:00:17</td>\n",
       "    </tr>\n",
       "  </tbody>\n",
       "</table>\n",
       "</div>"
      ],
      "text/plain": [
       "   tripduration          starttime           stoptime  start station id  \\\n",
       "0          1202  8/1/2015 00:00:04  8/1/2015 00:20:07               168   \n",
       "1           301  8/1/2015 00:00:05  8/1/2015 00:05:06               450   \n",
       "2           431  8/1/2015 00:00:06  8/1/2015 00:07:18               312   \n",
       "3           273  8/1/2015 00:00:09  8/1/2015 00:04:43               382   \n",
       "4          1256  8/1/2015 00:00:17  8/1/2015 00:21:13               352   \n",
       "\n",
       "        start station name  start station latitude  start station longitude  \\\n",
       "0          W 18 St & 6 Ave               40.739713               -73.994564   \n",
       "1          W 49 St & 8 Ave               40.762272               -73.987882   \n",
       "2  Allen St & E Houston St               40.722055               -73.989111   \n",
       "3  University Pl & E 14 St               40.734927               -73.992005   \n",
       "4          W 56 St & 6 Ave               40.763406               -73.977225   \n",
       "\n",
       "   end station id      end station name  end station latitude  \\\n",
       "0             385       E 55 St & 2 Ave             40.757973   \n",
       "1             479       9 Ave & W 45 St             40.760193   \n",
       "2             296  Division St & Bowery             40.714131   \n",
       "3             229        Great Jones St             40.727434   \n",
       "4             432     E 7 St & Avenue A             40.726218   \n",
       "\n",
       "   end station longitude  bikeid    usertype  birth year  gender  ageM  ageF  \\\n",
       "0             -73.966033   23253  Subscriber        1987       1    28   NaN   \n",
       "1             -73.991255   22675  Subscriber        1951       2   NaN    64   \n",
       "2             -73.997047   19831  Subscriber        1985       1    30   NaN   \n",
       "3             -73.993790   22765  Subscriber        1975       1    40   NaN   \n",
       "4             -73.983799   22127  Subscriber        1978       1    37   NaN   \n",
       "\n",
       "             datetime  \n",
       "0 2015-08-01 00:00:04  \n",
       "1 2015-08-01 00:00:05  \n",
       "2 2015-08-01 00:00:06  \n",
       "3 2015-08-01 00:00:09  \n",
       "4 2015-08-01 00:00:17  "
      ]
     },
     "execution_count": 30,
     "metadata": {},
     "output_type": "execute_result"
    }
   ],
   "source": [
    "df.head()"
   ]
  },
  {
   "cell_type": "code",
   "execution_count": 8,
   "metadata": {
    "collapsed": false
   },
   "outputs": [],
   "source": [
    "df['ageD'] = 2015-df['birth year'][(df['usertype'] == 'Subscriber') & (df['datetime'].dt.hour >=6)\\\n",
    "                                                                       &(df['datetime'].dt.hour<18)]\n",
    "df['ageN'] = 2015-df['birth year'][(df['usertype'] == 'Subscriber') & (df['datetime'].dt.hour >=18)\\\n",
    "                                                                         |(df['datetime'].dt.hour <6)]"
   ]
  },
  {
   "cell_type": "code",
   "execution_count": 9,
   "metadata": {
    "collapsed": false
   },
   "outputs": [
    {
     "data": {
      "text/html": [
       "<div>\n",
       "<table border=\"1\" class=\"dataframe\">\n",
       "  <thead>\n",
       "    <tr style=\"text-align: right;\">\n",
       "      <th></th>\n",
       "      <th>tripduration</th>\n",
       "      <th>starttime</th>\n",
       "      <th>stoptime</th>\n",
       "      <th>start station id</th>\n",
       "      <th>start station name</th>\n",
       "      <th>start station latitude</th>\n",
       "      <th>start station longitude</th>\n",
       "      <th>end station id</th>\n",
       "      <th>end station name</th>\n",
       "      <th>end station latitude</th>\n",
       "      <th>end station longitude</th>\n",
       "      <th>bikeid</th>\n",
       "      <th>usertype</th>\n",
       "      <th>birth year</th>\n",
       "      <th>gender</th>\n",
       "      <th>datetime</th>\n",
       "      <th>ageD</th>\n",
       "      <th>ageN</th>\n",
       "    </tr>\n",
       "  </thead>\n",
       "  <tbody>\n",
       "    <tr>\n",
       "      <th>0</th>\n",
       "      <td>1202</td>\n",
       "      <td>8/1/2015 00:00:04</td>\n",
       "      <td>8/1/2015 00:20:07</td>\n",
       "      <td>168</td>\n",
       "      <td>W 18 St &amp; 6 Ave</td>\n",
       "      <td>40.739713</td>\n",
       "      <td>-73.994564</td>\n",
       "      <td>385</td>\n",
       "      <td>E 55 St &amp; 2 Ave</td>\n",
       "      <td>40.757973</td>\n",
       "      <td>-73.966033</td>\n",
       "      <td>23253</td>\n",
       "      <td>Subscriber</td>\n",
       "      <td>1987</td>\n",
       "      <td>1</td>\n",
       "      <td>2015-08-01 00:00:04</td>\n",
       "      <td>NaN</td>\n",
       "      <td>28</td>\n",
       "    </tr>\n",
       "    <tr>\n",
       "      <th>1</th>\n",
       "      <td>301</td>\n",
       "      <td>8/1/2015 00:00:05</td>\n",
       "      <td>8/1/2015 00:05:06</td>\n",
       "      <td>450</td>\n",
       "      <td>W 49 St &amp; 8 Ave</td>\n",
       "      <td>40.762272</td>\n",
       "      <td>-73.987882</td>\n",
       "      <td>479</td>\n",
       "      <td>9 Ave &amp; W 45 St</td>\n",
       "      <td>40.760193</td>\n",
       "      <td>-73.991255</td>\n",
       "      <td>22675</td>\n",
       "      <td>Subscriber</td>\n",
       "      <td>1951</td>\n",
       "      <td>2</td>\n",
       "      <td>2015-08-01 00:00:05</td>\n",
       "      <td>NaN</td>\n",
       "      <td>64</td>\n",
       "    </tr>\n",
       "    <tr>\n",
       "      <th>2</th>\n",
       "      <td>431</td>\n",
       "      <td>8/1/2015 00:00:06</td>\n",
       "      <td>8/1/2015 00:07:18</td>\n",
       "      <td>312</td>\n",
       "      <td>Allen St &amp; E Houston St</td>\n",
       "      <td>40.722055</td>\n",
       "      <td>-73.989111</td>\n",
       "      <td>296</td>\n",
       "      <td>Division St &amp; Bowery</td>\n",
       "      <td>40.714131</td>\n",
       "      <td>-73.997047</td>\n",
       "      <td>19831</td>\n",
       "      <td>Subscriber</td>\n",
       "      <td>1985</td>\n",
       "      <td>1</td>\n",
       "      <td>2015-08-01 00:00:06</td>\n",
       "      <td>NaN</td>\n",
       "      <td>30</td>\n",
       "    </tr>\n",
       "    <tr>\n",
       "      <th>3</th>\n",
       "      <td>273</td>\n",
       "      <td>8/1/2015 00:00:09</td>\n",
       "      <td>8/1/2015 00:04:43</td>\n",
       "      <td>382</td>\n",
       "      <td>University Pl &amp; E 14 St</td>\n",
       "      <td>40.734927</td>\n",
       "      <td>-73.992005</td>\n",
       "      <td>229</td>\n",
       "      <td>Great Jones St</td>\n",
       "      <td>40.727434</td>\n",
       "      <td>-73.993790</td>\n",
       "      <td>22765</td>\n",
       "      <td>Subscriber</td>\n",
       "      <td>1975</td>\n",
       "      <td>1</td>\n",
       "      <td>2015-08-01 00:00:09</td>\n",
       "      <td>NaN</td>\n",
       "      <td>40</td>\n",
       "    </tr>\n",
       "    <tr>\n",
       "      <th>4</th>\n",
       "      <td>1256</td>\n",
       "      <td>8/1/2015 00:00:17</td>\n",
       "      <td>8/1/2015 00:21:13</td>\n",
       "      <td>352</td>\n",
       "      <td>W 56 St &amp; 6 Ave</td>\n",
       "      <td>40.763406</td>\n",
       "      <td>-73.977225</td>\n",
       "      <td>432</td>\n",
       "      <td>E 7 St &amp; Avenue A</td>\n",
       "      <td>40.726218</td>\n",
       "      <td>-73.983799</td>\n",
       "      <td>22127</td>\n",
       "      <td>Subscriber</td>\n",
       "      <td>1978</td>\n",
       "      <td>1</td>\n",
       "      <td>2015-08-01 00:00:17</td>\n",
       "      <td>NaN</td>\n",
       "      <td>37</td>\n",
       "    </tr>\n",
       "  </tbody>\n",
       "</table>\n",
       "</div>"
      ],
      "text/plain": [
       "   tripduration          starttime           stoptime  start station id  \\\n",
       "0          1202  8/1/2015 00:00:04  8/1/2015 00:20:07               168   \n",
       "1           301  8/1/2015 00:00:05  8/1/2015 00:05:06               450   \n",
       "2           431  8/1/2015 00:00:06  8/1/2015 00:07:18               312   \n",
       "3           273  8/1/2015 00:00:09  8/1/2015 00:04:43               382   \n",
       "4          1256  8/1/2015 00:00:17  8/1/2015 00:21:13               352   \n",
       "\n",
       "        start station name  start station latitude  start station longitude  \\\n",
       "0          W 18 St & 6 Ave               40.739713               -73.994564   \n",
       "1          W 49 St & 8 Ave               40.762272               -73.987882   \n",
       "2  Allen St & E Houston St               40.722055               -73.989111   \n",
       "3  University Pl & E 14 St               40.734927               -73.992005   \n",
       "4          W 56 St & 6 Ave               40.763406               -73.977225   \n",
       "\n",
       "   end station id      end station name  end station latitude  \\\n",
       "0             385       E 55 St & 2 Ave             40.757973   \n",
       "1             479       9 Ave & W 45 St             40.760193   \n",
       "2             296  Division St & Bowery             40.714131   \n",
       "3             229        Great Jones St             40.727434   \n",
       "4             432     E 7 St & Avenue A             40.726218   \n",
       "\n",
       "   end station longitude  bikeid    usertype  birth year  gender  \\\n",
       "0             -73.966033   23253  Subscriber        1987       1   \n",
       "1             -73.991255   22675  Subscriber        1951       2   \n",
       "2             -73.997047   19831  Subscriber        1985       1   \n",
       "3             -73.993790   22765  Subscriber        1975       1   \n",
       "4             -73.983799   22127  Subscriber        1978       1   \n",
       "\n",
       "             datetime  ageD  ageN  \n",
       "0 2015-08-01 00:00:04   NaN    28  \n",
       "1 2015-08-01 00:00:05   NaN    64  \n",
       "2 2015-08-01 00:00:06   NaN    30  \n",
       "3 2015-08-01 00:00:09   NaN    40  \n",
       "4 2015-08-01 00:00:17   NaN    37  "
      ]
     },
     "execution_count": 9,
     "metadata": {},
     "output_type": "execute_result"
    }
   ],
   "source": [
    "df.head()"
   ]
  },
  {
   "cell_type": "code",
   "execution_count": 15,
   "metadata": {
    "collapsed": false
   },
   "outputs": [
    {
     "name": "stdout",
     "output_type": "stream",
     "text": [
      "          count_nonzero\n",
      "ageD                   \n",
      "(10, 20]       0.002668\n",
      "(20, 30]       0.079135\n",
      "(30, 40]       0.093057\n",
      "(40, 50]       0.051675\n",
      "(50, 60]       0.015268\n",
      "(60, 70]       0.001953\n",
      "(70, 80]       0.000063\n",
      "(80, 90]       0.000000\n"
     ]
    },
    {
     "data": {
      "text/plain": [
       "<matplotlib.legend.Legend at 0x1082711d0>"
      ]
     },
     "execution_count": 15,
     "metadata": {},
     "output_type": "execute_result"
    },
    {
     "data": {
      "image/png": "[encoded data removed]",
      "text/plain": [
       "<matplotlib.figure.Figure at 0x107ec2f10>"
      ]
     },
     "metadata": {},
     "output_type": "display_data"
    }
   ],
   "source": [
    "csD=df.ageD.groupby(pd.cut(df.ageD, bins)).agg([count_nonzero]).cumsum()\n",
    "\n",
    "csN=df.ageN.groupby(pd.cut(df.ageN, bins)).agg([count_nonzero]).cumsum()\n",
    "\n",
    "print np.abs(csD / csD.max()-csN / csN.max())\n",
    "\n",
    "pl.plot(bins[:-1] + 5, csD / csD.max(), label = \"D\")\n",
    "pl.plot(bins[:-1] + 5, csN / csN.max(), label = \"N\")\n",
    "pl.legend()"
   ]
  },
  {
   "cell_type": "markdown",
   "metadata": {},
   "source": [
    "# KS, Pearson and Spearman's Tests"
   ]
  },
  {
   "cell_type": "code",
   "execution_count": null,
   "metadata": {
    "collapsed": true
   },
   "outputs": [],
   "source": [
    "import scipy.stats\n",
    "ks2=scipy.stats.ks_2samp(df.ageD, df.ageN)\n",
    "print ks2"
   ]
  },
  {
   "cell_type": "code",
   "execution_count": 19,
   "metadata": {
    "collapsed": false
   },
   "outputs": [
    {
     "name": "stdout",
     "output_type": "stream",
     "text": [
      "(nan, 1.0)\n"
     ]
    }
   ],
   "source": [
    "pr2 = scipy.stats.pearsonr(df.ageD, df.ageN)\n",
    "print pr2"
   ]
  },
  {
   "cell_type": "code",
   "execution_count": 20,
   "metadata": {
    "collapsed": false
   },
   "outputs": [
    {
     "name": "stdout",
     "output_type": "stream",
     "text": [
      "(-0.40109885821097568, 0.0)\n"
     ]
    }
   ],
   "source": [
    "sm2 = scipy.stats.spearmanr(df.ageD, df.ageN)\n",
    "print sm2"
   ]
  },
  {
   "cell_type": "markdown",
   "metadata": {
    "collapsed": true
   },
   "source": [
    "# Comment\n",
    "For KS test, the p-value is smaller than 0.05 which rejects the null hypothesis of non-correlation. It means that the two samples (age of day riders and age of nite riders) are correlated.\n",
    "\n",
    "For Spearman's test, -0.4 is the correlation coefficient of the two samples. Also, the p-value is smaller than 0.05 which rejects the null hypothesis of non-correlation. It means that the two samples (age of day riders and age of nite riders) are correlated."
   ]
  }
 ],
 "metadata": {
  "kernelspec": {
   "display_name": "Python 2",
   "language": "python",
   "name": "python2"
  },
  "language_info": {
   "codemirror_mode": {
    "name": "ipython",
    "version": 2
   },
   "file_extension": ".py",
   "mimetype": "text/x-python",
   "name": "python",
   "nbconvert_exporter": "python",
   "pygments_lexer": "ipython2",
   "version": "2.7.10"
  }
 },
 "nbformat": 4,
 "nbformat_minor": 0
}
