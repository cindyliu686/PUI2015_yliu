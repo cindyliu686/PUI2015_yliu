{
 "cells": [
  {
   "cell_type": "markdown",
   "metadata": {},
   "source": [
    "# GENDER INCOME GAP\n",
    "\n",
    "you may know that it is estimated that women earn about 78% of men in the same job position. \n",
    "Can we test that on NYC income data? Can we turn that into a prediction: if you get hired at a certain stipend as a men, what should you expect to make as a woman? (or from the point of view of a job employer, perhaps not one with a very strong moral compass, what should I offer a woman job candidate, given what I would offer a man for the same job?)\n",
    "\n",
    "\n"
   ]
  },
  {
   "cell_type": "code",
   "execution_count": 1,
   "metadata": {
    "collapsed": false
   },
   "outputs": [
    {
     "name": "stdout",
     "output_type": "stream",
     "text": [
      "Populating the interactive namespace from numpy and matplotlib\n"
     ]
    }
   ],
   "source": [
    "import pandas as pd\n",
    "import sys\n",
    "import os\n",
    "import numpy as np\n",
    "import pylab as pl\n",
    "%pylab inline"
   ]
  },
  {
   "cell_type": "code",
   "execution_count": 2,
   "metadata": {
    "collapsed": false
   },
   "outputs": [
    {
     "data": {
      "text/html": [
       "\n",
       "        <iframe\n",
       "            width=\"400\"\n",
       "            height=\"300\"\n",
       "            src=\"https://www.youtube.com/embed/G_ikzQM93W8\"\n",
       "            frameborder=\"0\"\n",
       "            allowfullscreen\n",
       "        ></iframe>\n",
       "        "
      ],
      "text/plain": [
       "<IPython.lib.display.YouTubeVideo at 0x1076893d0>"
      ]
     },
     "execution_count": 2,
     "metadata": {},
     "output_type": "execute_result"
    }
   ],
   "source": [
    "#The gender gap(non mandatory viewing)\n",
    "from IPython.display import YouTubeVideo\n",
    "YouTubeVideo(\"G_ikzQM93W8\")"
   ]
  },
  {
   "cell_type": "markdown",
   "metadata": {},
   "source": [
    "the Census data on income\n",
    "http://www.census.gov/hhes/www/cpstables/032015/perinc/pinc03_000.htm\n",
    "\n",
    "unfortunately a lot of the links that i originally used a few weeks ago are broken now. I posted the data I had used on the class webpage here (together with data for the buildings & energy homework): http://cosmo.nyu.edu/~fb55/UI_CUSP_2015/data"
   ]
  },
  {
   "cell_type": "code",
   "execution_count": 3,
   "metadata": {
    "collapsed": false,
    "scrolled": false
   },
   "outputs": [],
   "source": [
    "#to use the url just pas it to pandas read_excell\n",
    "url=\"http://cosmo.nyu.edu/~fb55/UI_CUSP_2015/data/\"\n",
    "\n",
    "#split your data by male and female, for example you can load the data into 2 dictionary. other variables may be relevant: for example race.\n",
    "#the names are not informative, and i am not giving you any meta data to find out what is in each file. \n",
    "# 08_2 files are male, 08_3 are female, and I am leaving in the lines of code that read the male files into races\n",
    "\n",
    "allmales={}\n",
    "allfemales={}\n",
    "\n",
    "allmales['all']=pd.read_excel(url+'/pinc08_2_1_1.xls',header=9)#%s/pinc03_2_1_1.xls'%url, header=9)\n",
    "allmales['white']=pd.read_excel(url+'/pinc08_2_1_4.xls', header=9)\n",
    "allmales['black']=pd.read_excel(url+'/pinc08_2_1_6.xls', header=9)\n",
    "allmales['hispanic']=pd.read_excel(url+'/pinc08_2_1_9.xls', header=9)\n",
    "allmales['asian']=pd.read_excel(url+'/pinc08_2_1_8.xls', header=9)"
   ]
  },
  {
   "cell_type": "code",
   "execution_count": 4,
   "metadata": {
    "collapsed": true
   },
   "outputs": [],
   "source": [
    "allfemales['all']=pd.read_excel(url+'/pinc08_3_1_1.xls',header=9)#%s/pinc03_2_1_1.xls'%url, header=9)\n",
    "allfemales['white']=pd.read_excel(url+'/pinc08_3_1_4.xls', header=9)\n",
    "allfemales['black']=pd.read_excel(url+'/pinc08_3_1_6.xls', header=9)\n",
    "allfemales['hispanic']=pd.read_excel(url+'/pinc08_3_1_9.xls', header=9)\n",
    "allfemales['asian']=pd.read_excel(url+'/pinc08_3_1_8.xls', header=9)"
   ]
  },
  {
   "cell_type": "markdown",
   "metadata": {},
   "source": [
    "# exploratory phase"
   ]
  },
  {
   "cell_type": "code",
   "execution_count": 5,
   "metadata": {
    "collapsed": false
   },
   "outputs": [],
   "source": [
    "#lest see what is in the data\n",
    "#from pandas.tools.plotting import scatter_matrix\n",
    "#scatter_matrix (allmales['all'], s=300, figsize=(16, 16), diagonal='kde')"
   ]
  },
  {
   "cell_type": "code",
   "execution_count": 6,
   "metadata": {
    "collapsed": false
   },
   "outputs": [
    {
     "name": "stdout",
     "output_type": "stream",
     "text": [
      "Index([      u'Characteristic',    u'Total with Income',\n",
      "       u'$1 to $2,499 or loss',     u'$2,500 to $4,999',\n",
      "           u'$5,000 to $7,499',     u'$7,500 to $9,999',\n",
      "         u'$10,000 to $12,499',   u'$12,500 to $14,999',\n",
      "         u'$15,000 to $17,499',   u'$17,500 to $19,999',\n",
      "         u'$20,000 to $22,499',   u'$22,500 to $24,999',\n",
      "         u'$25,000 to $27,499',   u'$27,500 to $29,999',\n",
      "         u'$30,000 to $32,499',   u'$32,500 to $34,999',\n",
      "         u'$35,000 to $37,499',   u'$37,500 to $39,999',\n",
      "         u'$40,000 to $42,499',   u'$42,500 to $44,999',\n",
      "         u'$45,000 to $47,499',   u'$47,500 to $49,999',\n",
      "         u'$50,000 to $52,499',   u'$52,500 to $54,999',\n",
      "         u'$55,000 to $57,499',   u'$57,500 to $59,999',\n",
      "         u'$60,000 to $62,499',   u'$62,500 to $64,999',\n",
      "         u'$65,000 to $67,499',   u'$67,500 to $69,999',\n",
      "         u'$70,000 to $72,499',   u'$72,500 to $74,999',\n",
      "         u'$75,000 to $77,499',   u'$77,500 to $79,999',\n",
      "         u'$80,000 to $82,499',   u'$82,500 to $84,999',\n",
      "         u'$85,000 to $87,499',   u'$87,500 to $89,999',\n",
      "         u'$90,000 to $92,499',   u'$92,500 to $94,999',\n",
      "         u'$95,000 to $97,499',   u'$97,500 to $99,999',\n",
      "          u'$100,000 and over',        u'Median income',\n",
      "                u'Unnamed: 44',          u'Mean income',\n",
      "                u'Unnamed: 46',           u'Gini ratio',\n",
      "                u'Unnamed: 48'],\n",
      "      dtype='object')\n"
     ]
    }
   ],
   "source": [
    "#like for the building homework: this fails cause the data is not parsed and formatted propoerly\n",
    "#so maybe just print the columns to find out\n",
    "print allmales['all'].columns"
   ]
  },
  {
   "cell_type": "code",
   "execution_count": 7,
   "metadata": {
    "collapsed": false
   },
   "outputs": [
    {
     "name": "stderr",
     "output_type": "stream",
     "text": [
      "/anaconda/lib/python2.7/site-packages/ipykernel/__main__.py:12: SettingWithCopyWarning: \n",
      "A value is trying to be set on a copy of a slice from a DataFrame\n",
      "\n",
      "See the the caveats in the documentation: http://pandas.pydata.org/pandas-docs/stable/indexing.html#indexing-view-versus-copy\n"
     ]
    }
   ],
   "source": [
    "#Another way to remove non real entries, is to use the np.isreal command, \n",
    "#i end up doing it in a for loop, which is ugly.\n",
    "#think about how you could improve on that if you already have coding experience\n",
    "#and are used to pythonic ways!\n",
    "\n",
    "for k in allmales:\n",
    "# Get all the elements which are not numeric\n",
    "    nonreal  = allmales[k].applymap(np.isreal)\n",
    "    for c in allmales[k].columns :\n",
    "    # if the number of non-real rows is bigger than 1 and smaller than the total number of rows\n",
    "        if nonreal.sum()[c]>1 and nonreal.sum()[c]<49:\n",
    "            allmales[k][c][~nonreal[c]] = np.float('NaN')\n",
    "            allmales[k][c] = allmales[k][c].astype(float)\n"
   ]
  },
  {
   "cell_type": "markdown",
   "metadata": {
    "collapsed": false
   },
   "source": [
    "now you can try again with the scatter matrix and see if there are any insightful correlations. \n",
    "please  make and comment the plot\n"
   ]
  },
  {
   "cell_type": "code",
   "execution_count": 8,
   "metadata": {
    "collapsed": false
   },
   "outputs": [
    {
     "name": "stderr",
     "output_type": "stream",
     "text": [
      "/anaconda/lib/python2.7/site-packages/ipykernel/__main__.py:7: SettingWithCopyWarning: \n",
      "A value is trying to be set on a copy of a slice from a DataFrame\n",
      "\n",
      "See the the caveats in the documentation: http://pandas.pydata.org/pandas-docs/stable/indexing.html#indexing-view-versus-copy\n"
     ]
    }
   ],
   "source": [
    "#do the same for females\n",
    "for k in allfemales:\n",
    "# Get all the elements which are not numeric\n",
    "    nonreal  = allfemales[k].applymap(np.isreal)\n",
    "    for c in allfemales[k].columns :\n",
    "        if nonreal.sum()[c]>1 and nonreal.sum()[c]<49:\n",
    "            allfemales[k][c][~nonreal[c]] = np.float('NaN')\n",
    "            allfemales[k][c] = allfemales[k][c].astype(float)\n"
   ]
  },
  {
   "cell_type": "markdown",
   "metadata": {},
   "source": [
    "# to see how the male and female income relate to each other plot the Total Median Income (from any source of revenue) of females vs the Total Median Income of males by race (one data point per race)\n",
    "\n",
    "# also plot the 1-1 line: the diagonal that corresponds to men and women getting the same pay\n",
    "(make the plot and describe it in a \"caption\" in the cell below the plot)"
   ]
  },
  {
   "cell_type": "code",
   "execution_count": 9,
   "metadata": {
    "collapsed": false
   },
   "outputs": [
    {
     "data": {
      "text/html": [
       "<div>\n",
       "<table border=\"1\" class=\"dataframe\">\n",
       "  <thead>\n",
       "    <tr style=\"text-align: right;\">\n",
       "      <th></th>\n",
       "      <th>all</th>\n",
       "      <th>asian</th>\n",
       "      <th>black</th>\n",
       "      <th>hispanic</th>\n",
       "      <th>white</th>\n",
       "    </tr>\n",
       "  </thead>\n",
       "  <tbody>\n",
       "    <tr>\n",
       "      <th>0</th>\n",
       "      <td>NaN</td>\n",
       "      <td>NaN</td>\n",
       "      <td>NaN</td>\n",
       "      <td>NaN</td>\n",
       "      <td>NaN</td>\n",
       "    </tr>\n",
       "    <tr>\n",
       "      <th>1</th>\n",
       "      <td>22063</td>\n",
       "      <td>24840</td>\n",
       "      <td>20044</td>\n",
       "      <td>17762</td>\n",
       "      <td>23780</td>\n",
       "    </tr>\n",
       "    <tr>\n",
       "      <th>2</th>\n",
       "      <td>27736</td>\n",
       "      <td>31363</td>\n",
       "      <td>25971</td>\n",
       "      <td>21261</td>\n",
       "      <td>30626</td>\n",
       "    </tr>\n",
       "    <tr>\n",
       "      <th>3</th>\n",
       "      <td>28402</td>\n",
       "      <td>31802</td>\n",
       "      <td>26165</td>\n",
       "      <td>21411</td>\n",
       "      <td>30919</td>\n",
       "    </tr>\n",
       "    <tr>\n",
       "      <th>4</th>\n",
       "      <td>10732</td>\n",
       "      <td>15231</td>\n",
       "      <td>10313</td>\n",
       "      <td>11020</td>\n",
       "      <td>10328</td>\n",
       "    </tr>\n",
       "  </tbody>\n",
       "</table>\n",
       "</div>"
      ],
      "text/plain": [
       "     all  asian  black  hispanic  white\n",
       "0    NaN    NaN    NaN       NaN    NaN\n",
       "1  22063  24840  20044     17762  23780\n",
       "2  27736  31363  25971     21261  30626\n",
       "3  28402  31802  26165     21411  30919\n",
       "4  10732  15231  10313     11020  10328"
      ]
     },
     "execution_count": 9,
     "metadata": {},
     "output_type": "execute_result"
    }
   ],
   "source": [
    "m_med_income_data = pd.DataFrame({'all':allmales['all']['Median income'],\\\n",
    "                                   'white':allmales['white']['Median income'],\\\n",
    "                                   'black':allmales['black']['Median income'],\\\n",
    "                                   'hispanic':allmales['hispanic']['Median income'],\\\n",
    "                                   'asian':allmales['asian']['Median income']})\n",
    "m_med_income_data.head()\n",
    "\n",
    "f_med_income_data = pd.DataFrame({'all':allfemales['all']['Median income'],\\\n",
    "                                   'white':allfemales['white']['Median income'],\\\n",
    "                                   'black':allfemales['black']['Median income'],\\\n",
    "                                   'hispanic':allfemales['hispanic']['Median income'],\\\n",
    "                                   'asian':allfemales['asian']['Median income']})\n",
    "f_med_income_data.head()"
   ]
  },
  {
   "cell_type": "code",
   "execution_count": 10,
   "metadata": {
    "collapsed": false
   },
   "outputs": [
    {
     "data": {
      "text/html": [
       "<div>\n",
       "<table border=\"1\" class=\"dataframe\">\n",
       "  <thead>\n",
       "    <tr style=\"text-align: right;\">\n",
       "      <th></th>\n",
       "      <th>all</th>\n",
       "      <th>asian</th>\n",
       "      <th>black</th>\n",
       "      <th>hispanic</th>\n",
       "      <th>white</th>\n",
       "    </tr>\n",
       "  </thead>\n",
       "  <tbody>\n",
       "    <tr>\n",
       "      <th>0</th>\n",
       "      <td>NaN</td>\n",
       "      <td>NaN</td>\n",
       "      <td>NaN</td>\n",
       "      <td>NaN</td>\n",
       "      <td>NaN</td>\n",
       "    </tr>\n",
       "    <tr>\n",
       "      <th>1</th>\n",
       "      <td>35228</td>\n",
       "      <td>40153</td>\n",
       "      <td>24855</td>\n",
       "      <td>25411</td>\n",
       "      <td>40122</td>\n",
       "    </tr>\n",
       "    <tr>\n",
       "      <th>2</th>\n",
       "      <td>39903</td>\n",
       "      <td>45926</td>\n",
       "      <td>30389</td>\n",
       "      <td>26914</td>\n",
       "      <td>44882</td>\n",
       "    </tr>\n",
       "    <tr>\n",
       "      <th>3</th>\n",
       "      <td>40298</td>\n",
       "      <td>45950</td>\n",
       "      <td>30686</td>\n",
       "      <td>27017</td>\n",
       "      <td>45554</td>\n",
       "    </tr>\n",
       "    <tr>\n",
       "      <th>4</th>\n",
       "      <td>19557</td>\n",
       "      <td>30916</td>\n",
       "      <td>10786</td>\n",
       "      <td>19988</td>\n",
       "      <td>20445</td>\n",
       "    </tr>\n",
       "  </tbody>\n",
       "</table>\n",
       "</div>"
      ],
      "text/plain": [
       "     all  asian  black  hispanic  white\n",
       "0    NaN    NaN    NaN       NaN    NaN\n",
       "1  35228  40153  24855     25411  40122\n",
       "2  39903  45926  30389     26914  44882\n",
       "3  40298  45950  30686     27017  45554\n",
       "4  19557  30916  10786     19988  20445"
      ]
     },
     "execution_count": 10,
     "metadata": {},
     "output_type": "execute_result"
    }
   ],
   "source": [
    "m_med_income_data.head()"
   ]
  },
  {
   "cell_type": "code",
   "execution_count": 11,
   "metadata": {
    "collapsed": false
   },
   "outputs": [
    {
     "data": {
      "text/plain": [
       "<matplotlib.legend.Legend at 0x109a365d0>"
      ]
     },
     "execution_count": 11,
     "metadata": {},
     "output_type": "execute_result"
    },
    {
     "data": {
      "image/png": "[encoded data removed]",
      "text/plain": [
       "<matplotlib.figure.Figure at 0x1077cef50>"
      ]
     },
     "metadata": {},
     "output_type": "display_data"
    }
   ],
   "source": [
    "ax = pl.figure(figsize=(10,10))\n",
    "pl.scatter(m_med_income_data['all'][1],f_med_income_data['all'][1],color='red',label='all',s=80)\n",
    "pl.scatter(m_med_income_data['white'][1],f_med_income_data['white'][1],color='blue',label='white',s=80)\n",
    "pl.scatter(m_med_income_data['black'][1],f_med_income_data['black'][1],color='black',label='black',s=80)\n",
    "pl.scatter(m_med_income_data['hispanic'][1],f_med_income_data['hispanic'][1],color='orange',label='hispanic',s=80)\n",
    "pl.scatter(m_med_income_data['asian'][1],f_med_income_data['asian'][1],color='green',label='asian',s=80)\n",
    "pl.xlim(-10000,50000)\n",
    "pl.ylim(-10000,50000)\n",
    "pl.plot([-10000,50000], [-10000,50000],color='black')\n",
    "pl.legend()"
   ]
  },
  {
   "cell_type": "markdown",
   "metadata": {},
   "source": [
    "# For all the races, the male median income is larger than female median income.\n"
   ]
  },
  {
   "cell_type": "markdown",
   "metadata": {},
   "source": [
    "# Now fit it with a line!\n",
    "you can use statsmodels, or scipy, numpy, or create your own residual minimization function. \n",
    "if you want to use numpy (and you do not have to!) you can for example use \n",
    "\n",
    "\n",
    "pl.plot(newx,np.poly1d(np.ployfit(x,y,1))(newx)\n",
    "\n",
    "to make and plot the fit in one line (although this way you did not save the parameters so you need to rerun the function to get the slope and intercept ... :-/\n",
    "\n",
    "why not challenge yourself (if you want) and  create your own residual minimization function you can minimize it with scipy instead of a nested for loop (which is called 'brute force minimization')\n",
    "\n",
    "from scipy.optimize import minimize\n",
    "\n",
    "def line ().....\n",
    "    #this would be a function that creates a line given parameters, like we did in class\n",
    "    ...\n",
    "    return y\n",
    "def residuals(data, model, error=None):\n",
    "    #you can add errors if you want\n",
    "    you want to return the sum of the residuals (difference b/w data and model **2)\n",
    "    return residuals\n",
    "\n",
    "you need an initial guess for the parameters, where you start searching. it has to be a single variable, so for 2 parameters make a list of 2 elements. the numbers inside do not have to be 0 and 1 - but choose something not too crazy or your minimization will get lost!\n",
    "\n",
    "p0 = [0,1] \n",
    "\n",
    "result = minimize(residuals, p0, args=(all_males, all_females))\n",
    "\n",
    "in args i put all arguments of the function residuals that are not to be evaluated for the minimization (in this case the data)"
   ]
  },
  {
   "cell_type": "code",
   "execution_count": 12,
   "metadata": {
    "collapsed": false
   },
   "outputs": [
    {
     "data": {
      "text/plain": [
       "array([  9.98984441e+03,   3.53140683e-01])"
      ]
     },
     "execution_count": 12,
     "metadata": {},
     "output_type": "execute_result"
    }
   ],
   "source": [
    "#fit and plot here\n",
    "import statsmodels.api as sm\n",
    "x = np.array(m_med_income_data.iloc[1])\n",
    "y = np.array(f_med_income_data.iloc[1])\n",
    "model = sm.OLS(y,sm.add_constant(x)).fit()\n",
    "model.params"
   ]
  },
  {
   "cell_type": "code",
   "execution_count": 13,
   "metadata": {
    "collapsed": false
   },
   "outputs": [
    {
     "data": {
      "text/plain": [
       "<matplotlib.legend.Legend at 0x10c4fe710>"
      ]
     },
     "execution_count": 13,
     "metadata": {},
     "output_type": "execute_result"
    },
    {
     "data": {
      "image/png": "[encoded data removed]",
      "text/plain": [
       "<matplotlib.figure.Figure at 0x10c4fe3d0>"
      ]
     },
     "metadata": {},
     "output_type": "display_data"
    }
   ],
   "source": [
    "pl.figure(figsize=(5,5))\n",
    "pl.scatter(x, y)\n",
    "x_axis = np.arange(0,50000,1)\n",
    "pl.plot(x_axis, x_axis*model.params[1]+model.params[0], color='green',label='OLS Regression')\n",
    "pl.xlim(-10000,50000)\n",
    "pl.ylim(-10000,50000)\n",
    "pl.legend()"
   ]
  },
  {
   "cell_type": "markdown",
   "metadata": {},
   "source": [
    "# it turns out that there is an analytical solution for the OLS regression it is coded below. please try to read the code and understand the formula! \n"
   ]
  },
  {
   "cell_type": "code",
   "execution_count": 14,
   "metadata": {
    "collapsed": false
   },
   "outputs": [],
   "source": [
    "#this is the analytical best regression line. it can be proved (ask me about it if you want!)\n",
    "import scipy\n",
    "from scipy import stats\n",
    "cor = stats.spearmanr(x, y)\n",
    "x.std()/y.std()\n",
    "beta1=cor[0]*y.std()/x.std()\n",
    "beta0=y.mean()-beta1*x.mean()"
   ]
  },
  {
   "cell_type": "markdown",
   "metadata": {},
   "source": [
    "# and plot the line corresponding to the analytical regression to compare it with the result of your numerical one"
   ]
  },
  {
   "cell_type": "code",
   "execution_count": 15,
   "metadata": {
    "collapsed": false
   },
   "outputs": [
    {
     "data": {
      "text/plain": [
       "<matplotlib.legend.Legend at 0x10c711590>"
      ]
     },
     "execution_count": 15,
     "metadata": {},
     "output_type": "execute_result"
    },
    {
     "data": {
      "image/png": "[encoded data removed]",
      "text/plain": [
       "<matplotlib.figure.Figure at 0x10c586e10>"
      ]
     },
     "metadata": {},
     "output_type": "display_data"
    }
   ],
   "source": [
    "#[...]\n",
    "pl.figure(figsize=(10,10))\n",
    "pl.scatter(x, y)\n",
    "x_axis = np.arange(0,50000,1)\n",
    "pl.plot(x_axis, x_axis*model.params[1]+model.params[0], color='green',label='OLS Regression')\n",
    "pl.plot(x_axis, beta0 + x_axis*beta1, color='red',label='analytical regression')\n",
    "pl.xlim(-10000,50000)\n",
    "pl.ylim(-10000,50000)\n",
    "pl.plot([-10000,50000], [-10000,50000],'k--',color='black',label='Diagonal Line')\n",
    "pl.legend()"
   ]
  },
  {
   "cell_type": "markdown",
   "metadata": {},
   "source": [
    "# this was done with THE TOTAL MEDIAN INCOME, let's now see if all forms of income lead to a different fit. \n",
    "\n",
    "if you use one data point for source of income (along the 'Median income' column) and fit a line and the line fit is similar to the median income was representative fo all forms of income for this analysis\n",
    "\n",
    "to unravel the data and concatenate them back together in a single array is a little complex (there may be easier way, this is just wha i came up with. if you have something better please share!!)\n",
    "here ar a few lines of code that should do the trick. i used nu.concatenate to put together arrays (it takes a list of arrays) and np.flatten to make the array 1 dimensional after merging. i also masked the nan values. i used the numpy ma (masled array) package. ever array is associated by this package to a mask array of Bools [True....False...] of the same size. the "
   ]
  },
  {
   "cell_type": "code",
   "execution_count": 16,
   "metadata": {
    "collapsed": false
   },
   "outputs": [],
   "source": [
    "all_males=np.array(np.concatenate([allmales['all']['Median income'][:].values,allmales['white']['Median income'][:].values,allmales['black']['Median income'][:].values,allmales['hispanic']['Median income'][:].values,allmales['asian']['Median income'][:].values]).flatten())\n",
    "\n",
    "all_females=np.array(np.concatenate([allfemales['all']['Median income'][:].values,allfemales['white']['Median income'][:].values,allfemales['black']['Median income'][:].values,allfemales['hispanic']['Median income'][:].values,allfemales['asian']['Median income'][:].values]).flatten())\n",
    "\n",
    "# Mask doesn't work for me when I do the linear regression model, so instead I use\n",
    "# \"missing = 'drop'\".\n",
    "\n",
    "#I am gonna create the mask int he next line. \n",
    "#the mask is True where either male or female value is Nan. \n",
    "#Notice that True is really just >1, and False really 0. \n",
    "#so i can add the male and female mask and the resulting mask will be \n",
    "#False where both arrays are not Nan, and true otherwise. \n",
    "\n",
    "#allmask = [np.isnan(all_males) + np.isnan(all_females)]\n",
    "\n",
    "#all_females.mask = allmask\n",
    "#all_males.mask = allmask"
   ]
  },
  {
   "cell_type": "code",
   "execution_count": 17,
   "metadata": {
    "collapsed": false
   },
   "outputs": [
    {
     "name": "stdout",
     "output_type": "stream",
     "text": [
      "                            OLS Regression Results                            \n",
      "==============================================================================\n",
      "Dep. Variable:                      y   R-squared:                       0.859\n",
      "Model:                            OLS   Adj. R-squared:                  0.859\n",
      "Method:                 Least Squares   F-statistic:                     1075.\n",
      "Date:                Wed, 14 Oct 2015   Prob (F-statistic):           7.21e-77\n",
      "Time:                        16:29:07   Log-Likelihood:                -1668.8\n",
      "No. Observations:                 178   AIC:                             3342.\n",
      "Df Residuals:                     176   BIC:                             3348.\n",
      "Df Model:                           1                                         \n",
      "Covariance Type:            nonrobust                                         \n",
      "==============================================================================\n",
      "                 coef    std err          t      P>|t|      [95.0% Conf. Int.]\n",
      "------------------------------------------------------------------------------\n",
      "const       1493.0394    351.359      4.249      0.000       799.619  2186.459\n",
      "x1             0.6090      0.019     32.787      0.000         0.572     0.646\n",
      "==============================================================================\n",
      "Omnibus:                       35.086   Durbin-Watson:                   1.506\n",
      "Prob(Omnibus):                  0.000   Jarque-Bera (JB):              368.629\n",
      "Skew:                          -0.011   Prob(JB):                     8.98e-81\n",
      "Kurtosis:                      10.050   Cond. No.                     3.09e+04\n",
      "==============================================================================\n",
      "\n",
      "Warnings:\n",
      "[1] Standard Errors assume that the covariance matrix of the errors is correctly specified.\n",
      "[2] The condition number is large, 3.09e+04. This might indicate that there are\n",
      "strong multicollinearity or other numerical problems.\n"
     ]
    }
   ],
   "source": [
    "# Fit for all sources of income revenus\n",
    "import statsmodels.api as sm\n",
    "model_all = sm.OLS(all_females,sm.add_constant(all_males),missing='drop').fit()\n",
    "print (model_all.summary())"
   ]
  },
  {
   "cell_type": "code",
   "execution_count": 18,
   "metadata": {
    "collapsed": false
   },
   "outputs": [
    {
     "data": {
      "text/plain": [
       "<matplotlib.legend.Legend at 0x10d1047d0>"
      ]
     },
     "execution_count": 18,
     "metadata": {},
     "output_type": "execute_result"
    },
    {
     "data": {
      "image/png": "[encoded data removed]",
      "text/plain": [
       "<matplotlib.figure.Figure at 0x10cc81890>"
      ]
     },
     "metadata": {},
     "output_type": "display_data"
    }
   ],
   "source": [
    "pl.figure(figsize=(10,10))\n",
    "pl.scatter(all_males, all_females)\n",
    "x_axis = np.arange(0,50000,1)\n",
    "pl.plot(x_axis, x_axis*model_all.params[1]+model_all.params[0], color='black',label='regression for all incomes')\n",
    "pl.plot(x_axis, beta0 + x_axis*beta1, color='red',label='analytical regression')\n",
    "pl.plot(x_axis, x_axis*model.params[1]+model.params[0], color='green',label='OLS regression')\n",
    "pl.scatter(m_med_income_data['all'][1],f_med_income_data['all'][1],color='red',label='all',s=80)\n",
    "pl.scatter(m_med_income_data['white'][1],f_med_income_data['white'][1],color='blue',label='white',s=80)\n",
    "pl.scatter(m_med_income_data['black'][1],f_med_income_data['black'][1],color='black',label='black',s=80)\n",
    "pl.scatter(m_med_income_data['hispanic'][1],f_med_income_data['hispanic'][1],color='orange',label='hispanic',s=80)\n",
    "pl.scatter(m_med_income_data['asian'][1],f_med_income_data['asian'][1],color='green',label='asian',s=80)\n",
    "pl.plot([-10000,50000], [-10000,50000],'k--',color='black',label='Diagonal Line')\n",
    "pl.xlim(-10000,50000)\n",
    "pl.ylim(-10000,50000)\n",
    "pl.xlabel('Male Median Income',size=10)\n",
    "pl.ylabel('Female Median Income',size=10)\n",
    "pl.legend(loc='upper left')"
   ]
  },
  {
   "cell_type": "markdown",
   "metadata": {
    "collapsed": true
   },
   "source": [
    "# Is the line fit similar? can you find any high leverage points?\n",
    "Yes, the line fit is similar. And there are some high leverage points."
   ]
  },
  {
   "cell_type": "markdown",
   "metadata": {},
   "source": [
    "# Now pick a stipend, maybe your ideal stipend? \n",
    "# and predict what a woman in a position where a man recieves your ideal stipend would make\n",
    "\n"
   ]
  },
  {
   "cell_type": "code",
   "execution_count": 20,
   "metadata": {
    "collapsed": false
   },
   "outputs": [
    {
     "name": "stdout",
     "output_type": "stream",
     "text": [
      "22808.7577678\n"
     ]
    }
   ],
   "source": [
    "stipend = 35000\n",
    "# predict\n",
    "f_stipend = stipend * model_all.params[1] + model_all.params[0] \n",
    "print f_stipend"
   ]
  },
  {
   "cell_type": "markdown",
   "metadata": {},
   "source": [
    "So if a man receives 35000 dollars, then a woman in the same position would only receive 22809 dollars."
   ]
  },
  {
   "cell_type": "markdown",
   "metadata": {},
   "source": [
    "# lastly do you have any comments about what these data tell us about race? how you would go about analyzing race differences with these data? (just a few sentences)"
   ]
  },
  {
   "cell_type": "markdown",
   "metadata": {},
   "source": [
    "White and Asians have higher median income than other racial groups for all sources of revenue. Also, for all racial groups, men has higher median income than women."
   ]
  },
  {
   "cell_type": "markdown",
   "metadata": {
    "collapsed": true
   },
   "source": [
    "For income, I will do two sample mean to compare any two racial groups to see whether their income difference is significant. For income inequality of gender, I could calculate the deviation of a certain racial groups' linear regression ( all males income vs all female income) from the diagonal line on which income for women and men are equal. Then,compare the deviation among different racial groups to see whether there is significant difference."
   ]
  }
 ],
 "metadata": {
  "kernelspec": {
   "display_name": "Python 2",
   "language": "python",
   "name": "python2"
  },
  "language_info": {
   "codemirror_mode": {
    "name": "ipython",
    "version": 2
   },
   "file_extension": ".py",
   "mimetype": "text/x-python",
   "name": "python",
   "nbconvert_exporter": "python",
   "pygments_lexer": "ipython2",
   "version": "2.7.10"
  }
 },
 "nbformat": 4,
 "nbformat_minor": 0
}
