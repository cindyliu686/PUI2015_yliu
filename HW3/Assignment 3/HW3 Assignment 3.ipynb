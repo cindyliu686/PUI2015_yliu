{
 "cells": [
  {
   "cell_type": "markdown",
   "metadata": {},
   "source": [
    "# Citibike Stations' Inflow/Outflow Ratio\n",
    "Group Members:\n",
    "Cindy Y. Liu, Yuxiang Zhang"
   ]
  },
  {
   "cell_type": "code",
   "execution_count": 2,
   "metadata": {
    "collapsed": false
   },
   "outputs": [
    {
     "name": "stdout",
     "output_type": "stream",
     "text": [
      "Populating the interactive namespace from numpy and matplotlib\n"
     ]
    }
   ],
   "source": [
    "# Load Default settings\n",
    "import pylab as pl\n",
    "import pandas as pd\n",
    "import numpy as np\n",
    "%pylab inline"
   ]
  },
  {
   "cell_type": "code",
   "execution_count": 3,
   "metadata": {
    "collapsed": false
   },
   "outputs": [],
   "source": [
    "# Load Citibike data\n",
    "df = pd.read_csv('201508-citibike-tripdata.csv')"
   ]
  },
  {
   "cell_type": "code",
   "execution_count": 4,
   "metadata": {
    "collapsed": false
   },
   "outputs": [],
   "source": [
    "# Drop unnecessary features\n",
    "df = df.drop(['tripduration','starttime','stoptime'],axis=1)"
   ]
  },
  {
   "cell_type": "code",
   "execution_count": 5,
   "metadata": {
    "collapsed": true
   },
   "outputs": [],
   "source": [
    "# Store the information of stations into a csv file which includes longitude,latitude and station id\n",
    "start = pd.DataFrame({'ID': df['start station id'], \\\n",
    "                    'Latitude': df['start station latitude'],\\\n",
    "                    'Longitude':df['start station longitude']})\n",
    "end = pd.DataFrame({'ID': df['end station id'], \\\n",
    "                    'Latitude': df['end station latitude'],\\\n",
    "                    'Longitude':df['end station longitude']})\n",
    "merged = pd.concat([start,end],axis=0)\n",
    "merged = merged.drop_duplicates('ID')\n",
    "merged.to_csv('station.csv')    "
   ]
  },
  {
   "cell_type": "markdown",
   "metadata": {},
   "source": [
    "We use the Geopy package to [reverse geocoding](https://en.wikipedia.org/wiki/Reverse_geocoding) by converting geographic coordinates (latitude and longitude) into street addresses. Based on these, we get the corresponding borough information for each Citibike station."
   ]
  },
  {
   "cell_type": "code",
   "execution_count": 6,
   "metadata": {
    "collapsed": false
   },
   "outputs": [],
   "source": [
    "from geopy.geocoders import Nominatim\n",
    "import numpy as np\n",
    "stations = pd.read_csv('station.csv')\n",
    "output = np.empty(len(stations), dtype='object')\n",
    "for index,station in stations.iterrows():\n",
    "    geolocator = Nominatim()\n",
    "    location = geolocator.reverse(\"%s,%s\"%(str(station['Latitude']), str(station['Longitude'])),timeout=10)\n",
    "    if location.raw[\"address\"][\"county\"]==\"New York County\"or location.raw[\"address\"][\"county\"]==\"New York\":\n",
    "        output[index]=\"Manhattan\"\n",
    "    else:\n",
    "        if location.raw[\"address\"][\"county\"]==\"Kings County\":\n",
    "            output[index]=\"Brooklyn\"\n",
    "        else:\n",
    "            if location.raw[\"address\"][\"county\"]==\"Queens County\":\n",
    "                output[index]=\"Queens\"\n",
    "            else:\n",
    "                output[index]=location.raw[\"address\"][\"county\"]"
   ]
  },
  {
   "cell_type": "markdown",
   "metadata": {},
   "source": [
    "Then we store the borough information of each station into a csv file named 'borough'."
   ]
  },
  {
   "cell_type": "code",
   "execution_count": 7,
   "metadata": {
    "collapsed": false
   },
   "outputs": [],
   "source": [
    "output.tofile('borough.csv',sep='\\n')"
   ]
  },
  {
   "cell_type": "code",
   "execution_count": 8,
   "metadata": {
    "collapsed": true
   },
   "outputs": [],
   "source": [
    "# Combine the station ID and its corresponding borough information into a new dataframe and export it to a new csv file\n",
    "# named 'stationbyborough'\n",
    "borough = output\n",
    "station_by_borough = pd.DataFrame({\"ID\":stations[\"ID\"],\\\n",
    "                                \"Borough\":borough})\n",
    "station_by_borough.to_csv('stationbyborough.csv',sep=',')"
   ]
  },
  {
   "cell_type": "code",
   "execution_count": 9,
   "metadata": {
    "collapsed": false
   },
   "outputs": [],
   "source": [
    "# Load 'stations by borough' csv file\n",
    "stations_by_borough = pd.read_csv('stationbyborough.csv')"
   ]
  },
  {
   "cell_type": "code",
   "execution_count": 10,
   "metadata": {
    "collapsed": true
   },
   "outputs": [],
   "source": [
    "# Create empty arrays for storing the number of inflow trips, outflow trips, and the ratio of inflow trips to total trips for each citibike station\n",
    "in_jour, out_jour, in_out_ratio = np.zeros(len(stations_by_borough)),np.zeros(len(stations_by_borough)),np.zeros(len(stations_by_borough))"
   ]
  },
  {
   "cell_type": "code",
   "execution_count": 12,
   "metadata": {
    "collapsed": false
   },
   "outputs": [],
   "source": [
    "# Iterate through all the stations to get the total number of inflow and outflow trips of each station\n",
    "for index, station in stations_by_borough.iterrows():\n",
    "    start = sum(df['start station id']==station['ID'])\n",
    "    end = sum(df['end station id']==station['ID'])\n",
    "    in_jour[index]= start\n",
    "    out_jour[index]= end\n",
    "    in_out_ratio[index] = start/float(end+start)"
   ]
  },
  {
   "cell_type": "code",
   "execution_count": 14,
   "metadata": {
    "collapsed": false
   },
   "outputs": [],
   "source": [
    "# Create a new data frame which includes all the inflow and outflow information of each station\n",
    "results = pd.DataFrame({'Sid':stations_by_borough['ID'],\\\n",
    "                      'Income':in_jour,\\\n",
    "                      'Outcome':out_jour,\\\n",
    "                      'Ratio':in_out_ratio,\\\n",
    "                      'Borough':stations_by_borough['Borough']})\n",
    "cols = ['Sid','Income','Outcome','Ratio','Borough']\n",
    "results = results[cols]\n",
    "results.to_csv('result.csv')"
   ]
  },
  {
   "cell_type": "code",
   "execution_count": 15,
   "metadata": {
    "collapsed": false
   },
   "outputs": [
    {
     "data": {
      "text/html": [
       "<div>\n",
       "<table border=\"1\" class=\"dataframe\">\n",
       "  <thead>\n",
       "    <tr style=\"text-align: right;\">\n",
       "      <th></th>\n",
       "      <th>Sid</th>\n",
       "      <th>Income</th>\n",
       "      <th>Outcome</th>\n",
       "      <th>Ratio</th>\n",
       "    </tr>\n",
       "  </thead>\n",
       "  <tbody>\n",
       "    <tr>\n",
       "      <th>count</th>\n",
       "      <td>421.000000</td>\n",
       "      <td>421.000000</td>\n",
       "      <td>421.000000</td>\n",
       "      <td>421.000000</td>\n",
       "    </tr>\n",
       "    <tr>\n",
       "      <th>mean</th>\n",
       "      <td>1020.299287</td>\n",
       "      <td>2800.579572</td>\n",
       "      <td>2800.579572</td>\n",
       "      <td>0.496943</td>\n",
       "    </tr>\n",
       "    <tr>\n",
       "      <th>std</th>\n",
       "      <td>1143.676593</td>\n",
       "      <td>2478.491485</td>\n",
       "      <td>2437.574067</td>\n",
       "      <td>0.041569</td>\n",
       "    </tr>\n",
       "    <tr>\n",
       "      <th>min</th>\n",
       "      <td>72.000000</td>\n",
       "      <td>0.000000</td>\n",
       "      <td>1.000000</td>\n",
       "      <td>0.000000</td>\n",
       "    </tr>\n",
       "    <tr>\n",
       "      <th>25%</th>\n",
       "      <td>317.000000</td>\n",
       "      <td>674.000000</td>\n",
       "      <td>684.000000</td>\n",
       "      <td>0.492572</td>\n",
       "    </tr>\n",
       "    <tr>\n",
       "      <th>50%</th>\n",
       "      <td>434.000000</td>\n",
       "      <td>2486.000000</td>\n",
       "      <td>2419.000000</td>\n",
       "      <td>0.498966</td>\n",
       "    </tr>\n",
       "    <tr>\n",
       "      <th>75%</th>\n",
       "      <td>2001.000000</td>\n",
       "      <td>4276.000000</td>\n",
       "      <td>4296.000000</td>\n",
       "      <td>0.504762</td>\n",
       "    </tr>\n",
       "    <tr>\n",
       "      <th>max</th>\n",
       "      <td>3224.000000</td>\n",
       "      <td>14498.000000</td>\n",
       "      <td>11912.000000</td>\n",
       "      <td>0.654886</td>\n",
       "    </tr>\n",
       "  </tbody>\n",
       "</table>\n",
       "</div>"
      ],
      "text/plain": [
       "               Sid        Income       Outcome       Ratio\n",
       "count   421.000000    421.000000    421.000000  421.000000\n",
       "mean   1020.299287   2800.579572   2800.579572    0.496943\n",
       "std    1143.676593   2478.491485   2437.574067    0.041569\n",
       "min      72.000000      0.000000      1.000000    0.000000\n",
       "25%     317.000000    674.000000    684.000000    0.492572\n",
       "50%     434.000000   2486.000000   2419.000000    0.498966\n",
       "75%    2001.000000   4276.000000   4296.000000    0.504762\n",
       "max    3224.000000  14498.000000  11912.000000    0.654886"
      ]
     },
     "execution_count": 15,
     "metadata": {},
     "output_type": "execute_result"
    }
   ],
   "source": [
    "# Display the summary statistics for the new data frame including all the inflow and outflow information of each station\n",
    "results.describe()"
   ]
  },
  {
   "cell_type": "code",
   "execution_count": 16,
   "metadata": {
    "collapsed": false
   },
   "outputs": [
    {
     "data": {
      "text/plain": [
       "Manhattan    261\n",
       "Brooklyn     148\n",
       "Queens        12\n",
       "dtype: int64"
      ]
     },
     "execution_count": 16,
     "metadata": {},
     "output_type": "execute_result"
    }
   ],
   "source": [
    "# Calculate the number of both Manhattan and Brooklyn stations\n",
    "pd.value_counts(results['Borough'].values.ravel())"
   ]
  },
  {
   "cell_type": "markdown",
   "metadata": {},
   "source": [
    "## Statistical Analysis"
   ]
  },
  {
   "cell_type": "code",
   "execution_count": 17,
   "metadata": {
    "collapsed": false
   },
   "outputs": [],
   "source": [
    "# Create new dataframes for Manhattan and Brooklyn seperately\n",
    "manhattan = results[results['Borough']=='Manhattan']\n",
    "brooklyn = results[results['Borough']=='Brooklyn']\n",
    "\n",
    "norm_m = 1\n",
    "norm_b = 1\n",
    "\n",
    "error_m = np.sqrt(manhattan['Ratio'].count())\n",
    "error_b = np.sqrt(brooklyn['Ratio'].count())"
   ]
  },
  {
   "cell_type": "code",
   "execution_count": 21,
   "metadata": {
    "collapsed": false
   },
   "outputs": [
    {
     "data": {
      "text/plain": [
       "<matplotlib.text.Text at 0x10d1ba990>"
      ]
     },
     "execution_count": 21,
     "metadata": {},
     "output_type": "execute_result"
    },
    {
     "data": {
      "image/png": "[encoded data removed]",
      "text/plain": [
       "<matplotlib.figure.Figure at 0x1105e6550>"
      ]
     },
     "metadata": {},
     "output_type": "display_data"
    }
   ],
   "source": [
    "# Create histograms for Manhattan and Brooklyn's inflow to outflow trips ratio\n",
    "from matplotlib import gridspec\n",
    "\n",
    "fig = pl.figure(figsize(10,10))\n",
    "gs = gridspec.GridSpec(2, 1)\n",
    "\n",
    "# Plot the histogram of inflow to outflow trips ratio for Manhattan stations\n",
    "ax = fig.add_subplot(gs[0,0])\n",
    "manhattan['Ratio'].plot(kind=\"hist\",yerr=[((error_m)/norm_m,(error_m)/norm_m)],\\\n",
    "                        bins=30,color='IndianRed', alpha=0.5,normed=1)\n",
    "ax.set_title('Manhattan Stations')\n",
    "\n",
    "# Plot the histogram of inflow to outflow trips ratio for Brooklyn stations\n",
    "bx = fig.add_subplot(gs[1,0])\n",
    "brooklyn['Ratio'].plot(kind=\"hist\",yerr=[((error_b)/norm_b,(error_b)/norm_b)],\\\n",
    "                       bins=30, alpha=0.5,normed=1)\n",
    "bx.set_title('Brooklyn Stations')"
   ]
  },
  {
   "cell_type": "code",
   "execution_count": 24,
   "metadata": {
    "collapsed": false
   },
   "outputs": [
    {
     "data": {
      "text/plain": [
       "count    261.000000\n",
       "mean       0.496884\n",
       "std        0.046508\n",
       "min        0.000000\n",
       "25%        0.496087\n",
       "50%        0.499340\n",
       "75%        0.502453\n",
       "max        0.581790\n",
       "Name: Ratio, dtype: float64"
      ]
     },
     "execution_count": 24,
     "metadata": {},
     "output_type": "execute_result"
    }
   ],
   "source": [
    "# Display summary statitics for Manhattan and Brooklyn's inflow to outflow trips ratio\n",
    "manhattan['Ratio'].describe()"
   ]
  },
  {
   "cell_type": "code",
   "execution_count": 25,
   "metadata": {
    "collapsed": false
   },
   "outputs": [
    {
     "data": {
      "text/plain": [
       "count    148.000000\n",
       "mean       0.496576\n",
       "std        0.032732\n",
       "min        0.377960\n",
       "25%        0.480969\n",
       "50%        0.495208\n",
       "75%        0.512843\n",
       "max        0.654886\n",
       "Name: Ratio, dtype: float64"
      ]
     },
     "execution_count": 25,
     "metadata": {},
     "output_type": "execute_result"
    }
   ],
   "source": [
    "brooklyn['Ratio'].describe()"
   ]
  },
  {
   "cell_type": "markdown",
   "metadata": {},
   "source": [
    "# Hypothesis: \n",
    "Manhattan's citibike stations have less inflow trips than Brooklyn."
   ]
  },
  {
   "cell_type": "markdown",
   "metadata": {},
   "source": [
    "# Z test for the mean of inflow to total trips ratios for two samples\n",
    "\n",
    "$H_{0} : p_m-p_b>0$\n",
    "\n",
    "$H_{\\alpha}: p_m-p_b<=0$"
   ]
  },
  {
   "cell_type": "code",
   "execution_count": 38,
   "metadata": {
    "collapsed": false
   },
   "outputs": [],
   "source": [
    "# Calculate the mean and standard deviation for two samples\n",
    "mean_m = np.mean(manhattan['Ratio'])\n",
    "mean_b = np.mean(brooklyn['Ratio'])\n",
    "std_m = np.std(manhattan['Ratio'])\n",
    "std_b = np.std(brooklyn['Ratio'])\n",
    "n_m = len(manhattan)\n",
    "n_b = len(brooklyn)\n",
    "\n",
    "# Create formula to calculate the standard error for the difference\n",
    "SE = lambda sd1,sd2,n1,n2: np.sqrt(sd1**2/float(n1)+sd2**2/float(n2))\n",
    "se = SE(std_m, std_b, n_m, n_b)"
   ]
  },
  {
   "cell_type": "code",
   "execution_count": 40,
   "metadata": {
    "collapsed": false
   },
   "outputs": [
    {
     "name": "stdout",
     "output_type": "stream",
     "text": [
      "z_1 = 0.078344\n"
     ]
    }
   ],
   "source": [
    "# Use the two sample z-test to evaluate the difference between two groups\n",
    "z_1 = (mean_m - mean_b)/se\n",
    "print 'z_1 = %f' % z_1"
   ]
  },
  {
   "cell_type": "code",
   "execution_count": 41,
   "metadata": {
    "collapsed": false
   },
   "outputs": [
    {
     "name": "stdout",
     "output_type": "stream",
     "text": [
      "Is the p value 0.53 smaller than the critical value 0.05? \n",
      "No, the Null hypothesis is not rejected\n"
     ]
    }
   ],
   "source": [
    "# According to the Z-score to, compute the p-value and compare against the critical value.\n",
    "p_1 = 0.5319\n",
    "alpha = 0.05\n",
    "def report_result(p,a):\n",
    "    print 'Is the p value {0:.2f} smaller than the critical value {1:.2f}? '.format(p,a)\n",
    "\n",
    "    print '{0}, the Null hypothesis is {1}'.format( 'Yes' if p<a  else 'No','rejected'if p<a else'not rejected')\n",
    "\n",
    "    \n",
    "report_result(p_1,alpha)"
   ]
  },
  {
   "cell_type": "markdown",
   "metadata": {},
   "source": [
    "# Z test for the proportion of trips which have more inflow trips than outflow trips (ratio > 0.5) to the total trips  in two samples."
   ]
  },
  {
   "cell_type": "code",
   "execution_count": 42,
   "metadata": {
    "collapsed": false
   },
   "outputs": [
    {
     "name": "stdout",
     "output_type": "stream",
     "text": [
      "P_0 = 0.425287,P_1 = 0.439189,n_0 = 261.000000,n_1 = 148.000000\n",
      "z_2 = 0.272867\n"
     ]
    }
   ],
   "source": [
    "P_0 = sum(manhattan['Ratio']>=0.5)/float(len(manhattan))\n",
    "P_1 = sum(brooklyn['Ratio']>=0.5)/float(len(brooklyn))\n",
    "\n",
    "n_0 = len(manhattan)\n",
    "n_1 = len(brooklyn)\n",
    "\n",
    "Nt_0 = P_0*n_0\n",
    "Nt_1 = P_1*n_1\n",
    "print 'P_0 = %f,P_1 = %f,n_0 = %f,n_1 = %f'%(P_0, P_1, n_0, n_1)\n",
    "\n",
    "# Pooled Sample Proportion\n",
    "psp =(P_0*n_0+P_1*n_1)/(n_1+n_0)\n",
    "\n",
    "SE = lambda p, n1, n2: np.sqrt(psp*(1-psp)*(1/float(n1)+1/float(n2)))\n",
    "\n",
    "se = SE(P_0,n_0,n_1)\n",
    "\n",
    "# Z-score\n",
    "zscore = lambda p0, p1, s : (p0-p1)/s\n",
    "z_2 = zscore(P_1, P_0, se)\n",
    "print'z_2 = %f' % z_2"
   ]
  },
  {
   "cell_type": "code",
   "execution_count": 43,
   "metadata": {
    "collapsed": false
   },
   "outputs": [
    {
     "name": "stdout",
     "output_type": "stream",
     "text": [
      "Is the p value 0.38 smaller than the critical value 0.05? \n",
      "No, the Null hypothesis is not rejected\n"
     ]
    }
   ],
   "source": [
    "p = 1 - 0.6179\n",
    "alpha = 0.05\n",
    "def report_result(p,a):\n",
    "    print 'Is the p value {0:.2f} smaller than the critical value {1:.2f}? '.format(p,a)\n",
    "   \n",
    "    print '{0}, the Null hypothesis is {1}'.format( 'Yes' if p<a  else 'No','rejected'if p<a else'not rejected')\n",
    "\n",
    "report_result(p,alpha)"
   ]
  },
  {
   "cell_type": "code",
   "execution_count": null,
   "metadata": {
    "collapsed": true
   },
   "outputs": [],
   "source": []
  }
 ],
 "metadata": {
  "kernelspec": {
   "display_name": "Python 2",
   "language": "python",
   "name": "python2"
  },
  "language_info": {
   "codemirror_mode": {
    "name": "ipython",
    "version": 2
   },
   "file_extension": ".py",
   "mimetype": "text/x-python",
   "name": "python",
   "nbconvert_exporter": "python",
   "pygments_lexer": "ipython2",
   "version": "2.7.10"
  }
 },
 "nbformat": 4,
 "nbformat_minor": 0
}
